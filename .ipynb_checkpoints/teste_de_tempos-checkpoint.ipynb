{
 "cells": [
  {
   "cell_type": "code",
   "execution_count": 1,
   "metadata": {},
   "outputs": [],
   "source": [
    "from PedroScripts.classes import *\n",
    "from compress import *\n",
    "import cv2\n",
    "from tqdm import tqdm"
   ]
  },
  {
   "cell_type": "code",
   "execution_count": 2,
   "metadata": {},
   "outputs": [],
   "source": [
    "output_file = 'video_em_frames/comprimido.mp4'\n",
    "output_folder = 'video_em_frames/'\n",
    "video = cv2.VideoCapture('video_menor.mp4')\n",
    "n_pFrames = 4\n",
    "frame_width = int(video.get(cv2.CAP_PROP_FRAME_WIDTH))\n",
    "frame_height = int(video.get(cv2.CAP_PROP_FRAME_HEIGHT))"
   ]
  },
  {
   "cell_type": "code",
   "execution_count": 3,
   "metadata": {},
   "outputs": [],
   "source": [
    "videofps = video.get(cv2.CAP_PROP_FPS)\n",
    "videoframecount = int(video.get(cv2.CAP_PROP_FRAME_COUNT))\n",
    "\n",
    "#Lendo o primeiro frame para pegar alguns metadados\n",
    "ok, i_frame = video.read()\n",
    "estimador = Estimador(i_frame,i_frame)\n",
    "#cv2.imwrite(f'{output_folder}{4*\"0\"}i.png',i_frame)"
   ]
  },
  {
   "cell_type": "code",
   "execution_count": 4,
   "metadata": {},
   "outputs": [],
   "source": [
    "# Define the codec and create VideoWriter object\n",
    "fourcc = cv2.VideoWriter_fourcc(*'mp4v') # Be sure to use lower case\n",
    "out = cv2.VideoWriter(output_file, fourcc, videofps, estimador.frameInicial.shape)"
   ]
  },
  {
   "cell_type": "code",
   "execution_count": 5,
   "metadata": {},
   "outputs": [],
   "source": [
    "# Escreve primeiro frame do vídeo\n",
    "out.write(estimador.frameInicial)"
   ]
  },
  {
   "cell_type": "code",
   "execution_count": 6,
   "metadata": {},
   "outputs": [],
   "source": [
    "ok, cur_frame = video.read()"
   ]
  },
  {
   "cell_type": "code",
   "execution_count": 7,
   "metadata": {},
   "outputs": [
    {
     "name": "stdout",
     "output_type": "stream",
     "text": [
      "2.25 ms ± 72.9 µs per loop (mean ± std. dev. of 7 runs, 100 loops each)\n"
     ]
    }
   ],
   "source": [
    "%%timeit\n",
    "estimador = Estimador(i_frame,cur_frame)"
   ]
  },
  {
   "cell_type": "code",
   "execution_count": 8,
   "metadata": {},
   "outputs": [
    {
     "name": "stdout",
     "output_type": "stream",
     "text": [
      "2.41 s ± 39 ms per loop (mean ± std. dev. of 7 runs, 1 loop each)\n"
     ]
    }
   ],
   "source": [
    "%%timeit\n",
    "frameEstimado = estimador.construirFrameEstimado()"
   ]
  },
  {
   "cell_type": "code",
   "execution_count": 9,
   "metadata": {},
   "outputs": [
    {
     "name": "stdout",
     "output_type": "stream",
     "text": [
      "1.63 ms ± 40.8 µs per loop (mean ± std. dev. of 7 runs, 1000 loops each)\n"
     ]
    }
   ],
   "source": [
    "%%timeit\n",
    "residual = estimador.getResidual()"
   ]
  },
  {
   "cell_type": "code",
   "execution_count": 12,
   "metadata": {},
   "outputs": [
    {
     "name": "stdout",
     "output_type": "stream",
     "text": [
      "1.2 ms ± 66.4 µs per loop (mean ± std. dev. of 7 runs, 1000 loops each)\n"
     ]
    }
   ],
   "source": [
    "%%timeit\n",
    "compressor = Compressor(residual)"
   ]
  },
  {
   "cell_type": "code",
   "execution_count": 15,
   "metadata": {},
   "outputs": [
    {
     "name": "stdout",
     "output_type": "stream",
     "text": [
      "1.66 s ± 38.7 ms per loop (mean ± std. dev. of 7 runs, 1 loop each)\n"
     ]
    }
   ],
   "source": [
    "%%timeit\n",
    "comprimida = compressor.comprimir()"
   ]
  },
  {
   "cell_type": "code",
   "execution_count": null,
   "metadata": {},
   "outputs": [],
   "source": [
    "for i in tqdm(range(1,videoframecount-1)):\n",
    "    ok, cur_frame = video.read()\n",
    "    if i%n_pFrames == 0:\n",
    "        i_frame = cur_frame\n",
    "        estimador = Estimador(i_frame,cur_frame)\n",
    "        #cv2.imwrite(f'{output_folder}{i:04}i.png',estimador.frameInicial)\n",
    "        out.write(estimador.frameInicial)\n",
    "    else:\n",
    "        estimador = Estimador(i_frame,cur_frame)\n",
    "        frameEstimado = estimador.construirFrameEstimado()\n",
    "        residual = estimador.getResidual()\n",
    "        \n",
    "        compressor = Compressor(residual)\n",
    "        comprimida = compressor.comprimir()\n",
    "\n",
    "        reconstruida = estimador.reconstuirImagem(comprimida, frameEstimado)\n",
    "        #cv2.imwrite(f'{output_folder}{i:04}p.png',reconstruida)\n",
    "        out.write(reconstruida)"
   ]
  }
 ],
 "metadata": {
  "interpreter": {
   "hash": "a5bbe5e4d45ec9928765c5567e6688dd9bdb9420263c905f4d8bae3415b1ca6d"
  },
  "kernelspec": {
   "display_name": "Python 3 (ipykernel)",
   "language": "python",
   "name": "python3"
  },
  "language_info": {
   "codemirror_mode": {
    "name": "ipython",
    "version": 3
   },
   "file_extension": ".py",
   "mimetype": "text/x-python",
   "name": "python",
   "nbconvert_exporter": "python",
   "pygments_lexer": "ipython3",
   "version": "3.8.10"
  }
 },
 "nbformat": 4,
 "nbformat_minor": 2
}
