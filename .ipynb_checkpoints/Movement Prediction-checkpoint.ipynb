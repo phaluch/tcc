{
 "cells": [
  {
   "cell_type": "code",
   "execution_count": 1,
   "id": "533c17fd",
   "metadata": {},
   "outputs": [
    {
     "name": "stdout",
     "output_type": "stream",
     "text": [
      "Cloning into 'MotionVectorEstimator'...\n",
      "remote: Enumerating objects: 174, done.\u001b[K\n",
      "remote: Counting objects: 100% (174/174), done.\u001b[K\n",
      "remote: Compressing objects: 100% (64/64), done.\u001b[K\n",
      "remote: Total 174 (delta 102), reused 174 (delta 102), pack-reused 0\u001b[K\n",
      "Receiving objects: 100% (174/174), 257.36 KiB | 4.08 MiB/s, done.\n",
      "Resolving deltas: 100% (102/102), done.\n",
      "Cloning into 'Image_Compression_via_DCT'...\n",
      "remote: Enumerating objects: 23, done.\u001b[K\n",
      "remote: Counting objects: 100% (23/23), done.\u001b[K\n",
      "remote: Compressing objects: 100% (22/22), done.\u001b[K\n",
      "remote: Total 23 (delta 1), reused 15 (delta 0), pack-reused 0\u001b[K\n",
      "Unpacking objects: 100% (23/23), 37.92 MiB | 12.45 MiB/s, done.\n",
      "Cloning into 'BlockMatching'...\n",
      "remote: Enumerating objects: 177, done.\u001b[K\n",
      "remote: Counting objects: 100% (79/79), done.\u001b[K\n",
      "remote: Compressing objects: 100% (79/79), done.\u001b[K\n",
      "remote: Total 177 (delta 21), reused 0 (delta 0), pack-reused 98\u001b[K\n",
      "Receiving objects: 100% (177/177), 33.19 MiB | 18.39 MiB/s, done.\n",
      "Resolving deltas: 100% (41/41), done.\n"
     ]
    }
   ],
   "source": [
    "!git clone https://github.com/DavidSie/MotionVectorEstimator.git\n",
    "!git clone https://github.com/frenkowski/Image_Compression_via_DCT.git\n",
    "!git clone https://github.com/gautamo/BlockMatching.git"
   ]
  },
  {
   "cell_type": "code",
   "execution_count": 2,
   "id": "fd042062",
   "metadata": {},
   "outputs": [],
   "source": [
    "import numpy as np\n",
    "import cv2\n",
    "import sys\n",
    "import time\n",
    "import moviepy.editor as mp\n",
    "import argparse"
   ]
  },
  {
   "cell_type": "code",
   "execution_count": 3,
   "id": "7cb61474",
   "metadata": {},
   "outputs": [],
   "source": [
    "def read_video(filename):\n",
    "    \"\"\"returns video object with its properties\"\"\"\n",
    "    video_name = filename.split('/')[-1].split('.')[0]\n",
    "    video = cv2.VideoCapture(filename)\n",
    "    frame_width = int(video.get(cv2.CAP_PROP_FRAME_WIDTH))\n",
    "    frame_height = int(video.get(cv2.CAP_PROP_FRAME_HEIGHT))\n",
    "\n",
    "    videofps = int(video.get(cv2.CAP_PROP_FPS))\n",
    "    videoframecount = int(video.get(cv2.CAP_PROP_FRAME_COUNT))\n",
    "\n",
    "    # Exit if video not opened.\n",
    "    if not video.isOpened():\n",
    "        print(\"Could not open video\")\n",
    "        sys.exit()\n",
    "\n",
    "    return (video_name, video, frame_width, frame_height, videofps, videoframecount)\n",
    "\n",
    "def read_frame(video, skipFrame=0):\n",
    "    \"\"\"returns the next frame from the video object, or skip frames\"\"\"\n",
    "    for skip in range(skipFrame+1):\n",
    "        ok, frame = video.read()\n",
    "\n",
    "        if not ok:\n",
    "            print('Cannot read video file')\n",
    "            break\n",
    "\n",
    "    return (ok, frame)\n",
    "\n",
    "def getFrames(filepath, skip=10, count=2, outfolder=\"testImages\", name=\"frame\", frametype=\"png\"):\n",
    "    \"\"\"\n",
    "    Retrives and saves frames from a video\n",
    "    :param filepath: file path of video\n",
    "    :param skip: number of frames to skip by\n",
    "    :param count: how many frames total to save\n",
    "    :param outfolder: where to save frames\n",
    "    :param name: frame name\n",
    "    :return: None\n",
    "    \"\"\"\n",
    "    video_name, video, frame_width, frame_height, videofps, videoframecount = read_video(filepath)\n",
    "\n",
    "    for x in range(count):\n",
    "        ok, frame = read_frame(video, skipFrame=skip)\n",
    "        if ok:\n",
    "            cv2.imwrite(f\"{outfolder}/{name}{x+1}.{frametype}\", frame)\n",
    "        else:\n",
    "            print(\"EOF\")\n",
    "            break\n",
    "\n",
    "def downSampleVideo(filepath, factor=0.5, outfolder=\"VIDEOS\"):\n",
    "    \"\"\"Downsamples a video by the factor to reduce the amount of frames in the video\"\"\"\n",
    "    video_name, video, frame_width, frame_height, videofps, videoframecount = read_video(filepath)\n",
    "    print(frame_height, frame_width)\n",
    "    clip = mp.VideoFileClip(filepath)\n",
    "    clip_resized = clip.resize(factor)\n",
    "    clip_resized.write_videofile(f\"{outfolder}/{video_name}_resized{int(frame_height*factor)}.mp4\")\n"
   ]
  },
  {
   "cell_type": "code",
   "execution_count": 5,
   "id": "d7519c1f",
   "metadata": {},
   "outputs": [
    {
     "name": "stdout",
     "output_type": "stream",
     "text": [
      "Done, executed in 0.08 s\n"
     ]
    }
   ],
   "source": [
    "if __name__ == \"__main__\":\n",
    "\n",
    "    timer = time.time()\n",
    "\n",
    "    # COMMAND STARTS HERE\n",
    "\n",
    "    #videopath = \"VIDEOS/CityWalk.mp4\"\n",
    "    #downSampleVideo(videopath)\n",
    "    #videopath = \"VIDEOS/HouseTour.mp4\"\n",
    "    #downSampleVideo(videopath)\n",
    "    \n",
    "    getFrames('video_menor.mp4')\n",
    "\n",
    "    #COMMAND ENDS HERE\n",
    "\n",
    "    totTime = time.time() - timer\n",
    "    print(f\"Done, executed in {totTime:.2f} s\")"
   ]
  },
  {
   "cell_type": "code",
   "execution_count": 6,
   "id": "51649286",
   "metadata": {},
   "outputs": [
    {
     "name": "stderr",
     "output_type": "stream",
     "text": [
      "QApplication: invalid style override 'adwaita' passed, ignoring it.\n",
      "\tAvailable styles: Windows, Fusion\n"
     ]
    }
   ],
   "source": [
    "cap = cv2.VideoCapture('video_menor.mp4')\n",
    "# params for ShiTomasi corner detection\n",
    "feature_params = dict( maxCorners = 100,\n",
    "                       qualityLevel = 0.3,\n",
    "                       minDistance = 7,\n",
    "                       blockSize = 7 )\n",
    "# Parameters for lucas kanade optical flow\n",
    "lk_params = dict( winSize  = (15,15),\n",
    "                  maxLevel = 2,\n",
    "                  criteria = (cv2.TERM_CRITERIA_EPS | cv2.TERM_CRITERIA_COUNT, 10, 0.03))\n",
    "# Create some random colors\n",
    "color = np.random.randint(0,255,(100,3))\n",
    "# Take first frame and find corners in it\n",
    "ret, old_frame = cap.read()\n",
    "old_gray = cv2.cvtColor(old_frame, cv2.COLOR_BGR2GRAY)\n",
    "p0 = cv2.goodFeaturesToTrack(old_gray, mask = None, **feature_params)\n",
    "# Create a mask image for drawing purposes\n",
    "mask = np.zeros_like(old_frame)\n",
    "while(1):\n",
    "    ret,frame = cap.read()\n",
    "    try:\n",
    "        frame_gray = cv2.cvtColor(frame, cv2.COLOR_BGR2GRAY)\n",
    "    except:\n",
    "        cv2.destroyAllWindows()\n",
    "        break\n",
    "    # calculate optical flow\n",
    "    p1, st, err = cv2.calcOpticalFlowPyrLK(old_gray, frame_gray, p0, None, **lk_params)\n",
    "    # Select good points\n",
    "    if p1 is not None:\n",
    "        good_new = p1[st==1]\n",
    "        good_old = p0[st==1]\n",
    "    # draw the tracks\n",
    "    for i,(new,old) in enumerate(zip(good_new, good_old)):\n",
    "        a,b = new.ravel()\n",
    "        c,d = old.ravel()\n",
    "        mask = cv2.line(mask, (int(a),int(b)),(int(c),int(d)), color[i].tolist(), 2)\n",
    "        frame = cv2.circle(frame,(int(a),int(b)),5,color[i].tolist(),-1)\n",
    "    img = cv2.add(frame,mask)\n",
    "    cv2.imshow('frame',img)\n",
    "    k = cv2.waitKey(30) & 0xff\n",
    "    if k == 27:\n",
    "        break\n",
    "    # Now update the previous frame and previous points\n",
    "    old_gray = frame_gray.copy()\n",
    "    p0 = good_new.reshape(-1,1,2)"
   ]
  },
  {
   "cell_type": "code",
   "execution_count": 2,
   "id": "e52be34d",
   "metadata": {},
   "outputs": [
    {
     "name": "stdout",
     "output_type": "stream",
     "text": [
      "2\n"
     ]
    }
   ],
   "source": [
    "print(2)"
   ]
  },
  {
   "cell_type": "code",
   "execution_count": null,
   "id": "6d74040b",
   "metadata": {},
   "outputs": [],
   "source": []
  }
 ],
 "metadata": {
  "kernelspec": {
   "display_name": "Python 3 (ipykernel)",
   "language": "python",
   "name": "python3"
  },
  "language_info": {
   "codemirror_mode": {
    "name": "ipython",
    "version": 3
   },
   "file_extension": ".py",
   "mimetype": "text/x-python",
   "name": "python",
   "nbconvert_exporter": "python",
   "pygments_lexer": "ipython3",
   "version": "3.8.10"
  }
 },
 "nbformat": 4,
 "nbformat_minor": 5
}
