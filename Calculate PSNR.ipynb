{
 "cells": [
  {
   "cell_type": "code",
   "execution_count": 39,
   "id": "3d784532",
   "metadata": {},
   "outputs": [],
   "source": [
    "import glob\n",
    "import numpy as np\n",
    "import os\n",
    "import cv2 as cv\n",
    "import matplotlib.pyplot as plt\n",
    "from tqdm import tqdm\n",
    "from numba import jit\n",
    "import csv"
   ]
  },
  {
   "cell_type": "code",
   "execution_count": 9,
   "id": "6f369c85",
   "metadata": {},
   "outputs": [],
   "source": [
    "dirs = glob.glob('./v*')"
   ]
  },
  {
   "cell_type": "code",
   "execution_count": 19,
   "id": "2ba9da99",
   "metadata": {},
   "outputs": [],
   "source": [
    "@jit\n",
    "def psnr(image1, image2):\n",
    "    mse = np.mean((image1.astype(np.float64) / 255 - image2.astype(np.float64) / 255) ** 2)\n",
    "    if mse == 0.0:\n",
    "        return False\n",
    "    return (10 * np.log10(1. / mse))\n",
    "\n",
    "@jit\n",
    "def luma(image):\n",
    "    return (0.299 * image[:, :, 2] + 0.587 * image[:, :, 1] + 0.114 * image[:, :, 0]).astype(np.uint8)"
   ]
  },
  {
   "cell_type": "code",
   "execution_count": 43,
   "id": "fedad7c5",
   "metadata": {},
   "outputs": [
    {
     "name": "stderr",
     "output_type": "stream",
     "text": [
      "100%|█████████████████████████████████████████| 316/316 [00:18<00:00, 16.96it/s]\n",
      "100%|█████████████████████████████████████████| 316/316 [00:18<00:00, 16.94it/s]\n",
      "100%|█████████████████████████████████████████| 316/316 [00:18<00:00, 16.96it/s]\n",
      "100%|█████████████████████████████████████████| 316/316 [00:18<00:00, 17.02it/s]\n",
      "100%|█████████████████████████████████████████| 316/316 [00:18<00:00, 16.99it/s]\n",
      "100%|█████████████████████████████████████████| 316/316 [00:18<00:00, 16.97it/s]\n",
      "100%|█████████████████████████████████████████| 316/316 [00:18<00:00, 17.03it/s]\n",
      "100%|█████████████████████████████████████████| 316/316 [00:18<00:00, 17.03it/s]\n"
     ]
    }
   ],
   "source": [
    "final = []\n",
    "for x in dirs:\n",
    "    f = open(f'{x}/psnr.csv', 'w')\n",
    "    writer = csv.writer(f)\n",
    "    writer.writerow(['video', 'PSNR'])\n",
    "    \n",
    "    subdirs = glob.glob(f'{x}/mounted_videos/*')\n",
    "\n",
    "    for idx, y in enumerate(sorted(subdirs)):\n",
    "        acc = 0\n",
    "        original = cv.VideoCapture(f'{x}/original.mkv')\n",
    "        compressed = cv.VideoCapture(y)\n",
    "        videoCFrameCount = int(original.get(cv.CAP_PROP_FRAME_COUNT))\n",
    "        \n",
    "        totalFrames = videoCFrameCount\n",
    "        \n",
    "        for i in tqdm(range(0, videoCFrameCount, 1)):\n",
    "            ok, oFrame = original.read()\n",
    "            ok, cFrame = compressed.read()\n",
    "            psnrvalue = psnr(luma(oFrame), luma(cFrame))\n",
    "            if psnrvalue:\n",
    "                acc += psnrvalue\n",
    "            else:\n",
    "                totalFrames -= 1\n",
    "\n",
    "        meanPSNR = acc/totalFrames\n",
    "        final.append(meanPSNR)\n",
    "        writer.writerow([y, meanPSNR])\n"
   ]
  },
  {
   "cell_type": "code",
   "execution_count": 35,
   "id": "d3253824",
   "metadata": {},
   "outputs": [
    {
     "data": {
      "text/plain": [
       "[35.009275547814845,\n",
       " 34.051346660360345,\n",
       " 33.02009696350912,\n",
       " 31.937021064267093,\n",
       " 30.76215519897213,\n",
       " 29.43144170881392,\n",
       " 27.88562899299047,\n",
       " 26.169823843271974]"
      ]
     },
     "execution_count": 35,
     "metadata": {},
     "output_type": "execute_result"
    }
   ],
   "source": [
    "final"
   ]
  },
  {
   "cell_type": "code",
   "execution_count": null,
   "id": "a3be7ace",
   "metadata": {},
   "outputs": [],
   "source": [
    "[32.77808760351087,\n",
    " 31.86794187912156,\n",
    " 30.89115830025119,\n",
    " 29.867838961698453,\n",
    " 28.760363543274597,\n",
    " 27.508401854685,\n",
    " 26.056947617800528,\n",
    " 24.448256786414937]"
   ]
  },
  {
   "cell_type": "code",
   "execution_count": null,
   "id": "9ce98dc9",
   "metadata": {},
   "outputs": [],
   "source": [
    "data = [final[i] for i in range(0,8,1)]"
   ]
  },
  {
   "cell_type": "code",
   "execution_count": 36,
   "id": "089c6691",
   "metadata": {},
   "outputs": [
    {
     "data": {
      "text/plain": [
       "[<matplotlib.lines.Line2D at 0x7f09d5006880>]"
      ]
     },
     "execution_count": 36,
     "metadata": {},
     "output_type": "execute_result"
    },
    {
     "data": {
      "image/png": "[encoded data removed]",
      "text/plain": [
       "<Figure size 432x288 with 1 Axes>"
      ]
     },
     "metadata": {
      "needs_background": "light"
     },
     "output_type": "display_data"
    }
   ],
   "source": [
    "fig, ax = plt.subplots()\n",
    "ax.plot(range(90,98,1), final)\n"
   ]
  },
  {
   "cell_type": "code",
   "execution_count": null,
   "id": "8dee9eb9",
   "metadata": {},
   "outputs": [],
   "source": [
    "data"
   ]
  },
  {
   "cell_type": "code",
   "execution_count": null,
   "id": "1cf3b450",
   "metadata": {},
   "outputs": [],
   "source": []
  }
 ],
 "metadata": {
  "kernelspec": {
   "display_name": "Python 3 (ipykernel)",
   "language": "python",
   "name": "python3"
  },
  "language_info": {
   "codemirror_mode": {
    "name": "ipython",
    "version": 3
   },
   "file_extension": ".py",
   "mimetype": "text/x-python",
   "name": "python",
   "nbconvert_exporter": "python",
   "pygments_lexer": "ipython3",
   "version": "3.8.10"
  }
 },
 "nbformat": 4,
 "nbformat_minor": 5
}
